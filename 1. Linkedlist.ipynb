{
 "cells": [
  {
   "cell_type": "code",
   "execution_count": 10,
   "metadata": {},
   "outputs": [],
   "source": [
    "class node(object):\n",
    "    def __init__(self,data):\n",
    "        self.data = data\n",
    "        self.nextnode = None\n",
    "class linkedlist(object):\n",
    "    def __init__(self):\n",
    "        self.head = None\n",
    "        self.size = 0\n",
    "    def insertstart(self,data):\n",
    "        self.size += 1\n",
    "        newnode = node(data)\n",
    "        if not self.head:\n",
    "            self.head = newnode\n",
    "        else:\n",
    "            newnode.nextnode = self.head\n",
    "            self.head = newnode\n",
    "    def traverse(self):\n",
    "        currentnode = self.head\n",
    "        while currentnode is not None:\n",
    "            print(\"%d\" % currentnode.data)\n",
    "            currentnode = currentnode.nextnode\n",
    "    def insertend(self,data):\n",
    "        self.size += 1\n",
    "        newnode = node(data)\n",
    "        actualnode = self.head\n",
    "        while actualnode.nextnode is not None:\n",
    "            actualnode = actualnode.nextnode\n",
    "        actualnode.nextnode = newnode\n",
    "    def size(self):\n",
    "        return (self.size)\n",
    "    def delete(self,data):\n",
    "        self.size -= 1\n",
    "        cn = self.head\n",
    "        pn = None\n",
    "        while cn.data != data:\n",
    "            pn = cn\n",
    "            cn = cn.nextnode\n",
    "        if pn is None:\n",
    "            self.head = cn.nextnode\n",
    "        else:\n",
    "            pn.nextnode = cn.nextnode\n",
    "                \n",
    "        "
   ]
  },
  {
   "cell_type": "code",
   "execution_count": 11,
   "metadata": {},
   "outputs": [],
   "source": [
    "ls = linkedlist()"
   ]
  },
  {
   "cell_type": "code",
   "execution_count": 12,
   "metadata": {},
   "outputs": [],
   "source": [
    "ls.insertstart(5)\n",
    "ls.insertstart(7)\n",
    "ls.insertend(8)\n",
    "ls.delete(5)"
   ]
  },
  {
   "cell_type": "code",
   "execution_count": 13,
   "metadata": {},
   "outputs": [
    {
     "name": "stdout",
     "output_type": "stream",
     "text": [
      "7\n",
      "8\n"
     ]
    }
   ],
   "source": [
    "ls.traverse()"
   ]
  },
  {
   "cell_type": "code",
   "execution_count": null,
   "metadata": {},
   "outputs": [],
   "source": [
    "ls.s"
   ]
  }
 ],
 "metadata": {
  "kernelspec": {
   "display_name": "Python 3.8.2 64-bit",
   "language": "python",
   "name": "python38264bit183c2f9feebb4be88247933455d564f8"
  },
  "language_info": {
   "codemirror_mode": {
    "name": "ipython",
    "version": 3
   },
   "file_extension": ".py",
   "mimetype": "text/x-python",
   "name": "python",
   "nbconvert_exporter": "python",
   "pygments_lexer": "ipython3",
   "version": "3.8.2"
  }
 },
 "nbformat": 4,
 "nbformat_minor": 4
}
