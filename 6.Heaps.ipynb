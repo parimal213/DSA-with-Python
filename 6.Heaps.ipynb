{
 "cells": [
  {
   "cell_type": "code",
   "execution_count": 47,
   "metadata": {},
   "outputs": [],
   "source": [
    "#The maximum no of items that can bn stored in the heap\n",
    "capacity = 10\n",
    "\n",
    "class Heap(object):\n",
    "    def __init__(self):\n",
    "        self.heap = [0]*capacity #created an array with as many slot as the capacity\n",
    "        self.heap_size = 0 #we want to track the size(to find the no of items in the heap)\n",
    "        \n",
    "    def insert(self,item):\n",
    "        \n",
    "        if capacity == self.heap_size:\n",
    "            return\n",
    "        \n",
    "        #insert the item, increment the size\n",
    "        self.heap[self.heap_size] = item\n",
    "        self.heap_size +=1\n",
    "        \n",
    "        #we insert the item to the last position of the array: of course the heap properties may be violated\n",
    "        #so we have to fix it up\n",
    "        \n",
    "        self.fix_up(self.heap_size-1) #when there is 3 item in the array then size of the arr will be 3 but the last item \n",
    "                                      #will be arr[2]\n",
    "    \n",
    "    \n",
    "    #we consider the last item and checks whether swaps needed or not\n",
    "    #running time O(logN)\n",
    "    \n",
    "    def fix_up(self,index):\n",
    "        \n",
    "        #the parent index of the given node in the heap\n",
    "        parent_index = (index-1)//2\n",
    "        \n",
    "        if index>0 and self.heap[index]>self.heap[parent_index]:\n",
    "            self.swap(index,parent_index)\n",
    "            self.fix_up(parent_index)\n",
    "            \n",
    "    def swap(self,index1,index2):\n",
    "        self.heap[index1],self.heap[index2]=self.heap[index2],self.heap[index1]\n",
    "        \n",
    "    def get_max(self):\n",
    "        return self.heap[0]\n",
    "        \n",
    "    def poll(self):\n",
    "        \n",
    "        maxi = self.get_max()\n",
    "        \n",
    "        self.swap(0,self.heap_size-1)\n",
    "        self.heap_size = self.heap_size-1\n",
    "        \n",
    "        self.fix_down(0)\n",
    "        \n",
    "        return maxi\n",
    "        \n",
    "    def fix_down(self,index):\n",
    "        \n",
    "        index_left = 2*index + 1\n",
    "        index_right = 2*index + 2\n",
    "        \n",
    "        index_largest = index\n",
    "        \n",
    "        #if the left child is greater than the parent: largest is the left node\n",
    "        #making sure that the index_left is valid \n",
    "        #and cheking the property\n",
    "        if index_left < self.heap_size and self.heap[index_left]>self.heap[index_largest]:\n",
    "            index_largest = index_left                                                  \n",
    "            \n",
    "        #if the right child is greater than the right child: largest is the right node    \n",
    "        \n",
    "        if index_right < self.heap_size and self.heap[index_right]>self.heap[index_largest]:\n",
    "            index_largest = index_right\n",
    "            \n",
    "        if index != index_largest:\n",
    "            self.swap(index,index_largest)\n",
    "            self.fix_down(index_largest)\n",
    "            \n",
    "    def heap_sort(self):\n",
    "        size = self.heap_size\n",
    "        for i in range(0,size):\n",
    "            maxi = self.poll()\n",
    "            print(maxi)"
   ]
  },
  {
   "cell_type": "code",
   "execution_count": 48,
   "metadata": {},
   "outputs": [],
   "source": [
    "heap = Heap()"
   ]
  },
  {
   "cell_type": "code",
   "execution_count": 49,
   "metadata": {},
   "outputs": [],
   "source": [
    "heap.insert(10)\n",
    "heap.insert(8)\n",
    "heap.insert(12)\n",
    "heap.insert(20)\n",
    "heap.insert(-2)\n",
    "heap.insert(0)\n",
    "heap.insert(1)\n",
    "heap.insert(321)\n"
   ]
  },
  {
   "cell_type": "code",
   "execution_count": 50,
   "metadata": {},
   "outputs": [
    {
     "data": {
      "text/plain": [
       "321"
      ]
     },
     "execution_count": 50,
     "metadata": {},
     "output_type": "execute_result"
    }
   ],
   "source": [
    "heap.get_max()"
   ]
  },
  {
   "cell_type": "code",
   "execution_count": 51,
   "metadata": {},
   "outputs": [
    {
     "name": "stdout",
     "output_type": "stream",
     "text": [
      "321\n",
      "20\n",
      "12\n",
      "10\n",
      "8\n",
      "1\n",
      "0\n",
      "-2\n"
     ]
    }
   ],
   "source": [
    "heap.heap_sort()"
   ]
  },
  {
   "cell_type": "code",
   "execution_count": null,
   "metadata": {},
   "outputs": [],
   "source": []
  }
 ],
 "metadata": {
  "kernelspec": {
   "display_name": "Python 3.8.2 64-bit",
   "language": "python",
   "name": "python38264bit183c2f9feebb4be88247933455d564f8"
  },
  "language_info": {
   "codemirror_mode": {
    "name": "ipython",
    "version": 3
   },
   "file_extension": ".py",
   "mimetype": "text/x-python",
   "name": "python",
   "nbconvert_exporter": "python",
   "pygments_lexer": "ipython3",
   "version": "3.8.2"
  }
 },
 "nbformat": 4,
 "nbformat_minor": 4
}
