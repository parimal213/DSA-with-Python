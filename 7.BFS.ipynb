{
 "cells": [
  {
   "cell_type": "code",
   "execution_count": 10,
   "metadata": {},
   "outputs": [],
   "source": [
    "class Node(object):\n",
    "    def __init__(self,name):\n",
    "        self.name = name\n",
    "        self.adjacencyList = []\n",
    "        self.visited = False\n",
    "        self.predecessor = None\n",
    "class BreadthFirstSearch(object):\n",
    "    \n",
    "    def bfs(self,startNode):\n",
    "        queue = []\n",
    "        queue.append(startNode)\n",
    "        startNode.visited = True\n",
    "        \n",
    "        while queue:\n",
    "            actualNode = queue.pop(0)\n",
    "            print(\"%s\" % actualNode.name)\n",
    "            \n",
    "            for n in actualNode.adjacencyList:\n",
    "                if not n.visited:\n",
    "                    n.visited = True\n",
    "                    queue.append(n)\n",
    "            \n",
    "        "
   ]
  },
  {
   "cell_type": "code",
   "execution_count": 11,
   "metadata": {},
   "outputs": [],
   "source": [
    "bfs = BreadthFirstSearch()"
   ]
  },
  {
   "cell_type": "code",
   "execution_count": 12,
   "metadata": {},
   "outputs": [],
   "source": [
    "node1 = Node(\"a\")\n",
    "node2 = Node(\"b\")\n",
    "node3 = Node(\"c\")\n",
    "node4 = Node(\"d\")\n",
    "node5 = Node(\"e\")\n",
    "\n",
    "node1.adjacencyList.append(node2)\n",
    "node1.adjacencyList.append(node3)\n",
    "node2.adjacencyList.append(node4)\n",
    "node4.adjacencyList.append(node5)\n"
   ]
  },
  {
   "cell_type": "code",
   "execution_count": 13,
   "metadata": {},
   "outputs": [
    {
     "name": "stdout",
     "output_type": "stream",
     "text": [
      "a\n",
      "b\n",
      "c\n",
      "d\n",
      "e\n"
     ]
    }
   ],
   "source": [
    "bfs.bfs(node1)"
   ]
  },
  {
   "cell_type": "code",
   "execution_count": null,
   "metadata": {},
   "outputs": [],
   "source": []
  }
 ],
 "metadata": {
  "kernelspec": {
   "display_name": "Python 3.8.2 64-bit",
   "language": "python",
   "name": "python38264bit183c2f9feebb4be88247933455d564f8"
  },
  "language_info": {
   "codemirror_mode": {
    "name": "ipython",
    "version": 3
   },
   "file_extension": ".py",
   "mimetype": "text/x-python",
   "name": "python",
   "nbconvert_exporter": "python",
   "pygments_lexer": "ipython3",
   "version": "3.8.2"
  }
 },
 "nbformat": 4,
 "nbformat_minor": 4
}
