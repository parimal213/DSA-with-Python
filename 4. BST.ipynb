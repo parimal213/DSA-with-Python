{
 "cells": [
  {
   "cell_type": "code",
   "execution_count": 1,
   "metadata": {},
   "outputs": [],
   "source": [
    "class Node(object):\n",
    "    def __init__(self,data):\n",
    "        self.data = data\n",
    "        self.leftchild = None\n",
    "        self.rightchild = None"
   ]
  },
  {
   "cell_type": "code",
   "execution_count": 2,
   "metadata": {},
   "outputs": [],
   "source": [
    "class BinarySearchTree(object):\n",
    "    def __init__(self):\n",
    "        self.root = None\n",
    "    def insert(self,data):\n",
    "        if not self.root:\n",
    "            self.root = Node(data)\n",
    "        else:\n",
    "            self.insertnode(data,self.root)   \n",
    "    def insertnode(self,data,node):\n",
    "        if data < node.data:\n",
    "            if node.leftchild:\n",
    "                self.insertnode(data,node.leftchild)\n",
    "            else:\n",
    "                node.leftchild = Node(data)\n",
    "        else:\n",
    "            if node.rightchild:\n",
    "                self.insertnode(data,node.rightchild)\n",
    "            else:\n",
    "                node.rightchild = Node(data)\n",
    "    def GetMinValue(self):\n",
    "        if self.root:\n",
    "            return self.GetMin(self.root)\n",
    "    def GetMin(self,node):\n",
    "        if node.leftchild:\n",
    "            return self.GetMin(node.leftchild)\n",
    "        return node.data\n",
    "    def GetMaxValue(self):\n",
    "        if self.root:\n",
    "            return self.GetMax(self.root)\n",
    "    def GetMax(self,node):\n",
    "        if node.rightchild:\n",
    "            return self.GetMax(node.rightchild)\n",
    "        return node.data\n",
    "    def traverse(self):\n",
    "        if self.root:\n",
    "            self.traverseInorder(self.root)\n",
    "    def traverseInorder(self,node):\n",
    "        if node.leftchild:\n",
    "            self.traverseInorder(node.leftchild)\n",
    "            \n",
    "        print(\" %s \" % node.data)\n",
    "        \n",
    "        if node.rightchild:\n",
    "            self.traverseInorder(node.rightchild)\n",
    "            \n",
    "    def remove(self,data):\n",
    "        if self.root:\n",
    "            self.removeNode(data,self.root)\n",
    "    def removeNode(self,data,node):\n",
    "        if not node:\n",
    "            return node\n",
    "        if data < node.data:\n",
    "            node.leftchild = self.removeNode(data,node.leftchild)\n",
    "        elif data > node.data:\n",
    "            node.rightchild = self.removeNode(data,node.leftchild)\n",
    "        else:\n",
    "            if not node.leftchild and not node.rightchild:\n",
    "                print(\"Removing a leaf node....\")\n",
    "                del node\n",
    "                return None\n",
    "            if not node.leftchild:\n",
    "                print(\"Removing a node with with a single rightchild....\")\n",
    "                tempnode = node.rightchild\n",
    "                del node\n",
    "                return tempnode\n",
    "            elif not node.rightchild:\n",
    "                print(\"Removing a node with with a single leftchild....\")\n",
    "                tempnode = node.leftchild\n",
    "                del node\n",
    "                return tempnode\n",
    "            print(\"Removing node with two children....\")\n",
    "            tempnode = self.predecessor(node.leftchild)\n",
    "            node.data = tempnode.data\n",
    "            node.leftchild = self.removeNode(tempnode.data,node.leftchild)\n",
    "    def predecessor(self,node):\n",
    "        if node.rightchild:\n",
    "            self.predecessor(node.rightchild)\n",
    "        return node"
   ]
  },
  {
   "cell_type": "code",
   "execution_count": 3,
   "metadata": {},
   "outputs": [],
   "source": [
    "bst = BinarySearchTree()"
   ]
  },
  {
   "cell_type": "code",
   "execution_count": 4,
   "metadata": {},
   "outputs": [],
   "source": [
    "bst.insert(10)\n",
    "bst.insert(5)\n",
    "bst.insert(15)\n",
    "bst.insert(6)"
   ]
  },
  {
   "cell_type": "code",
   "execution_count": 5,
   "metadata": {},
   "outputs": [
    {
     "name": "stdout",
     "output_type": "stream",
     "text": [
      " 5 \n",
      " 6 \n",
      " 10 \n",
      " 15 \n"
     ]
    }
   ],
   "source": [
    "bst.traverse()"
   ]
  },
  {
   "cell_type": "code",
   "execution_count": 6,
   "metadata": {},
   "outputs": [
    {
     "data": {
      "text/plain": [
       "15"
      ]
     },
     "execution_count": 6,
     "metadata": {},
     "output_type": "execute_result"
    }
   ],
   "source": [
    "bst.GetMaxValue()"
   ]
  },
  {
   "cell_type": "code",
   "execution_count": 7,
   "metadata": {},
   "outputs": [
    {
     "name": "stdout",
     "output_type": "stream",
     "text": [
      "Removing a node with with a single rightchild....\n"
     ]
    }
   ],
   "source": [
    "bst.remove(5)"
   ]
  },
  {
   "cell_type": "code",
   "execution_count": 8,
   "metadata": {},
   "outputs": [
    {
     "name": "stdout",
     "output_type": "stream",
     "text": [
      " 6 \n",
      " 10 \n",
      " 15 \n"
     ]
    }
   ],
   "source": [
    "bst.traverse()"
   ]
  },
  {
   "cell_type": "code",
   "execution_count": 9,
   "metadata": {},
   "outputs": [],
   "source": [
    "bst.insert(5)"
   ]
  },
  {
   "cell_type": "code",
   "execution_count": 10,
   "metadata": {},
   "outputs": [
    {
     "name": "stdout",
     "output_type": "stream",
     "text": [
      " 5 \n",
      " 6 \n",
      " 10 \n",
      " 15 \n"
     ]
    }
   ],
   "source": [
    "bst.traverse()"
   ]
  },
  {
   "cell_type": "code",
   "execution_count": 11,
   "metadata": {},
   "outputs": [
    {
     "name": "stdout",
     "output_type": "stream",
     "text": [
      "Removing node with two children....\n",
      "Removing a node with with a single leftchild....\n"
     ]
    }
   ],
   "source": [
    "bst.remove(10)"
   ]
  },
  {
   "cell_type": "code",
   "execution_count": 12,
   "metadata": {},
   "outputs": [
    {
     "name": "stdout",
     "output_type": "stream",
     "text": [
      " 5 \n",
      " 6 \n",
      " 15 \n"
     ]
    }
   ],
   "source": [
    "bst.traverse()"
   ]
  },
  {
   "cell_type": "code",
   "execution_count": null,
   "metadata": {},
   "outputs": [],
   "source": []
  }
 ],
 "metadata": {
  "kernelspec": {
   "display_name": "Python 3.8.2 64-bit",
   "language": "python",
   "name": "python38264bit183c2f9feebb4be88247933455d564f8"
  },
  "language_info": {
   "codemirror_mode": {
    "name": "ipython",
    "version": 3
   },
   "file_extension": ".py",
   "mimetype": "text/x-python",
   "name": "python",
   "nbconvert_exporter": "python",
   "pygments_lexer": "ipython3",
   "version": "3.8.2"
  }
 },
 "nbformat": 4,
 "nbformat_minor": 4
}
